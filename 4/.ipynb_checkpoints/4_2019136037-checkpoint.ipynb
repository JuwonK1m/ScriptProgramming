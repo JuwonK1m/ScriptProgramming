{
 "cells": [
  {
   "cell_type": "markdown",
   "metadata": {},
   "source": [
    "# 문제 1번\n",
    "### 내용\n",
    "크기 20의 리스트를 선언하여 -10부터 10까지의 랜덤한 숫자로 초기화를 합니다.  \n",
    "음수의 숫자들의 인덱스를 출력하고 양수로 바꾸어서 다시 저장한 후 이를 출력하시오.\n",
    "### 코드 설명\n",
    "크기 20의 리스트를 선언하고, random 모듈의 randint() 함수를 사용하여 for문을 통해 각각 -10부터 10까지의 랜덤한 숫자로 초기화하였다.  \n",
    "그리고 한번더 for문을 통해 리스트를 순회하면서, 해당 위치의 데이터가 음수이면 인덱스를 출력하고, 데이터에 -1을 곱하여 양수로 만들어주었다.  \n",
    "그리고 마지막에 수정된 리스트를 출력하였다."
   ]
  },
  {
   "cell_type": "code",
   "execution_count": 10,
   "metadata": {},
   "outputs": [
    {
     "name": "stdout",
     "output_type": "stream",
     "text": [
      "A = [6, -9, 10, -3, 10, 8, 5, -5, 6, 10, -2, 6, 3, 1, 7, 5, -7, -7, 6, -4]\n",
      "음수인덱스: 1, 3, 7, 10, 16, 17, 19\n",
      "A = [6, 9, 10, 3, 10, 8, 5, 5, 6, 10, 2, 6, 3, 1, 7, 5, 7, 7, 6, 4]\n"
     ]
    }
   ],
   "source": [
    "from random import randint\n",
    "\n",
    "A = [None] * 20\n",
    "\n",
    "for i in range(0, len(A)):\n",
    "    A[i] = randint(-10, 10)\n",
    "    \n",
    "print(\"A =\", A)\n",
    "print(\"음수인덱스: \", end = \"\")\n",
    "first = True\n",
    "for i in range(0, len(A)):\n",
    "    if A[i] < 0: \n",
    "        if first:\n",
    "            print(i, end = \"\")\n",
    "            first = False\n",
    "        else:\n",
    "            print(\",\", i, end = \"\")\n",
    "        A[i] *= -1\n",
    "print()\n",
    "print(\"A =\", A)     "
   ]
  },
  {
   "cell_type": "markdown",
   "metadata": {},
   "source": [
    "### 실행 결과\n",
    "A = [6, -9, 10, -3, 10, 8, 5, -5, 6, 10, -2, 6, 3, 1, 7, 5, -7, -7, 6, -4]  \n",
    "음수인덱스: 1, 3, 7, 10, 16, 17, 19  \n",
    "A = [6, 9, 10, 3, 10, 8, 5, 5, 6, 10, 2, 6, 3, 1, 7, 5, 7, 7, 6, 4]"
   ]
  },
  {
   "cell_type": "markdown",
   "metadata": {},
   "source": [
    "# 문제 2번\n",
    "### 내용\n",
    "크기 10의 리스트를 생성하여 0부터 10까지의 랜덤한 숫자로 초기화를 합니다.  \n",
    "이때 중복된 숫자를 제거하고 리스트를 오름차순으로 정렬하여 출력하시오.\n",
    "### 코드 설명\n",
    "접근한 방식은 다음과 같다.\n",
    "- 각 숫자의 빈도수를 저장하는 리스트 cnt를 선언\n",
    "- 0부터 10까지의 랜덤한 숫자가 있는 리스트 A를 순회하면서, 숫자 빈도를 카운트해 cnt 리스트에 저장\n",
    "- cnt 리스트를 순회하면서 값이 2이상인 경우(숫자 빈도수가 2 이상이므로 중복 상태)에는 해당 값에서 1을 뺀만큼 리스트 A에서 제거(remove() 함수)\n",
    "- sort() 함수를 통해 오름차순 정렬\n",
    "\n",
    "크기 10의 리스트 A와 크기 11의 리스트 cnt을 선언하여 위 과정을 수행한 다음 리스트 A를 출력하였다."
   ]
  },
  {
   "cell_type": "code",
   "execution_count": 16,
   "metadata": {},
   "outputs": [
    {
     "name": "stdout",
     "output_type": "stream",
     "text": [
      "A = [10, 10, 8, 9, 10, 0, 3, 7, 4, 0]\n",
      "A = [0, 3, 4, 7, 8, 9, 10]\n"
     ]
    }
   ],
   "source": [
    "from random import randint\n",
    "\n",
    "A = [None] * 10\n",
    "cnt = [0] * 11\n",
    "\n",
    "for i in range(0, len(A)):\n",
    "    A[i] = randint(0, 10)\n",
    "    cnt[A[i]] += 1\n",
    "    \n",
    "print(\"A =\", A)\n",
    "\n",
    "for i in range(0, len(cnt)):\n",
    "    if cnt[i] >= 2:\n",
    "        for j in range(0, cnt[i] - 1):\n",
    "            A.remove(i)\n",
    "            \n",
    "A.sort()\n",
    "            \n",
    "print(\"A =\", A)"
   ]
  },
  {
   "cell_type": "markdown",
   "metadata": {},
   "source": [
    "### 실행 결과\n",
    "A = [10, 10, 8, 9, 10, 0, 3, 7, 4, 0]  \n",
    "A = [0, 3, 4, 7, 8, 9, 10]"
   ]
  },
  {
   "cell_type": "markdown",
   "metadata": {},
   "source": [
    "# 문제 3번\n",
    "### 내용\n",
    "상품 A를 만들 때는 두가지 공정을 확인합니다. 첫 공정은 x, 두번째 공정은 y라고 할 경우 x, y의 공정 둘 다 이상이 있는 경우만 불량으로 판정합니다. 10개의 제품이 있고 각 공정의 결과를 x 리스트, y 리스트에 저장하는데 정상품은 True, 불량품은 False로 저장되는 리스트를 만드시오. (x, y 리스트의 정상품, 불량품 결과(True, False 값)는 랜덤하게 초기화 함) x, y 리스트를 활용하여 A가 정상품이면 True, 불량품이면 False를 가지는 리스트가 되도록 하시오.\n",
    "### 코드 설명\n",
    "값이 전부 True이고 크기가 10인 리스트 A를 선언하고,  \n",
    "값이 없고(None) 크기가 10인 리스트 x, y를 각각 선언하였다.  \n",
    "그리고 for문을 통해 리스트 x, y에 랜덤으로 False or True를 할당하였다. (randint(0, 1)을 통하여 0일때 False, 1일때 True 할당)  \n",
    "그리고 리스트 x, y를 다시한번 순회하면서 둘다 False인 경우에는 리스트 A의 해당 인덱스 공간에 False를 대입하였다. "
   ]
  },
  {
   "cell_type": "code",
   "execution_count": 21,
   "metadata": {},
   "outputs": [
    {
     "name": "stdout",
     "output_type": "stream",
     "text": [
      "A = [True, True, True, True, True, True, True, True, True, True]\n",
      "x = [False, True, False, False, True, True, False, False, True, False]\n",
      "y = [True, True, True, True, True, False, False, True, True, False]\n",
      "A=  [True, True, True, True, True, True, False, True, True, False]\n"
     ]
    }
   ],
   "source": [
    "from random import randint\n",
    "\n",
    "A = [True] * 10\n",
    "x = [None] * 10\n",
    "y = [None] * 10\n",
    "\n",
    "for i in range(0, len(A)):\n",
    "    randVal1 = randint(0, 1)\n",
    "    randVal2 = randint(0, 1)\n",
    "    if randVal1 == 0:\n",
    "        x[i] = False\n",
    "    else:\n",
    "        x[i] = True\n",
    "    if randVal2 == 0:\n",
    "        y[i] = False\n",
    "    else:\n",
    "        y[i] = True\n",
    "        \n",
    "print(\"A =\", A)\n",
    "print(\"x =\", x)\n",
    "print(\"y =\", y)\n",
    "\n",
    "for i in range(0, len(A)):\n",
    "    if x[i] == False and y[i] == False:\n",
    "        A[i] = False\n",
    "        \n",
    "print(\"A= \", A)"
   ]
  },
  {
   "cell_type": "markdown",
   "metadata": {},
   "source": [
    "### 실행 결과\n",
    "A = [True, True, True, True, True, True, True, True, True, True]  \n",
    "x = [False, True, False, False, True, True, False, False, True, False]  \n",
    "y = [True, True, True, True, True, False, False, True, True, False]  \n",
    "A=  [True, True, True, True, True, True, False, True, True, False]"
   ]
  },
  {
   "cell_type": "markdown",
   "metadata": {},
   "source": [
    "# 문제 4번\n",
    "### 내용\n",
    "Dance for me, dance for me, dance for me, oh, oh, oh.  \n",
    "i've never seen anybody do the things you do before.  \n",
    "they say move for me, move for me, move for me, ay, ay, ay.  \n",
    "and when you're done. i'll make you do it all again.  \n",
    "  \n",
    "노래 가사 중의 일부입니다.  \n",
    "위의 문자열을 리스트에 저장 합니다. ‘,’ ‘.’ 뒤에 오는 첫 문자를 대문자로 바꿔서 다시 저장하고 이를 출력하시오. (리스트의 split기능을 사용하시오)\n",
    "### 코드 설명\n",
    "가사 문자열 한문장씩 각각 다음의 과정으로 처리하였다.\n",
    "1. 문자열에서 replace() 함수를 사용하여 '.'을 ','로 바꾼다. (과정 3번에서 split() 함수를 사용할때 ','로 한번에 처리하기 위해)\n",
    "2. 문자열을 ', '을 기준으로 split() 함수를 이용하여 처리한 리스트를 저장한다. (그냥 콤마가 아닌 콤마 + 공백문자로 구분하는 이유는 과정 3번에서 capitalize() 함수를 사용하기 위해)  \n",
    "3. 리스트를 순회하면서, 각 단어의 첫번째 알파벳을 capitalize() 함수를 통해 대문자로 바꾼다.  \n",
    "4. 저장되어있던 전체 문자열을 \"\"로 초기화한다.\n",
    "5. 리스트를 순회하면서 다음의 과정을 따른다.\n",
    "    - 문자열의 끝이 ','인곳은 원래 '.'였으므로 replace() 함수로 ','를 '.'로 바꿔주고 문자열에 해당 문자열과 공백을 더해준다.\n",
    "    - 문자열의 끝이 ','이 아닌곳은 원래 ','였으므로 문자열에 해당 문자열과 ','와 공백을 더해준다.\n",
    "    \n",
    "가사 문자열 따로따로 저장하여 위의 과정을 수행한다음 출력하였다."
   ]
  },
  {
   "cell_type": "code",
   "execution_count": null,
   "metadata": {},
   "outputs": [],
   "source": [
    "lyrics1 = \"Dance for me, dance for me, dance for me, oh, oh, oh.\"\n",
    "lyrics1 = lyrics1.replace('.', ',')\n",
    "lyrics2 = \"I've never seen anybody do the things you do before.\"\n",
    "lyrics2 = lyrics2.replace('.', ',')\n",
    "lyrics3 = \"They say move for me, Move for me, Move for me, Ay, Ay, Ay.\"\n",
    "lyrics3 = lyrics3.replace('.', ',')\n",
    "lyrics4 = \"And when you're done.\"\n",
    "lyrics4 = lyrics4.replace('.', ',')\n",
    "lyrics5 = \"I'll make you do it all again.\"\n",
    "lyrics5 = lyrics5.replace('.', ',')\n",
    "\n",
    "list1 = lyrics1.split(', ')\n",
    "for i in range(0, len(list1)):\n",
    "    list1[i] = list1[i].capitalize()\n",
    "lyrics1 = \"\"\n",
    "for i in list1:\n",
    "    if i[-1] == ',':\n",
    "        tempStr = i.replace(',', '.')\n",
    "        lyrics1 += (tempStr + \" \")\n",
    "    else:\n",
    "        lyrics1 += (i + \", \")\n",
    "        \n",
    "list2 = lyrics2.split(', ')\n",
    "for i in range(0, len(list2)):\n",
    "    list2[i] = list2[i].capitalize()\n",
    "lyrics2 = \"\"\n",
    "for i in list2:\n",
    "    if i[-1] == ',':\n",
    "        tempStr = i.replace(',', '.')\n",
    "        lyrics2 += (tempStr + \" \")\n",
    "    else:\n",
    "        lyrics2 += (i + \", \")\n",
    "        \n",
    "list3 = lyrics3.split(', ')\n",
    "for i in range(0, len(list3)):\n",
    "    list3[i] = list3[i].capitalize()\n",
    "lyrics3 = \"\"\n",
    "for i in list3:\n",
    "    if i[-1] == ',':\n",
    "        tempStr = i.replace(',', '.')\n",
    "        lyrics3 += (tempStr + \" \")\n",
    "    else:\n",
    "        lyrics3 += (i + \", \")\n",
    "        \n",
    "list4 = lyrics4.split(', ')\n",
    "for i in range(0, len(list4)):\n",
    "    list4[i] = list4[i].capitalize()\n",
    "lyrics4 = \"\"\n",
    "for i in list4:\n",
    "    if i[-1] == ',':\n",
    "        tempStr = i.replace(',', '.')\n",
    "        lyrics4 += (tempStr + \" \")\n",
    "    else:\n",
    "        lyrics4 += (i + \", \")\n",
    "        \n",
    "list5 = lyrics5.split(', ')\n",
    "for i in range(0, len(list5)):\n",
    "    list5[i] = list5[i].capitalize()\n",
    "lyrics5 = \"\"\n",
    "for i in list5:\n",
    "    if i[-1] == ',':\n",
    "        tempStr = i.replace(',', '.')\n",
    "        lyrics5 += (tempStr + \" \")\n",
    "    else:\n",
    "        lyrics5 += (i + \", \")\n",
    "        \n",
    "print(lyrics1)\n",
    "print(lyrics2)\n",
    "print(lyrics3)\n",
    "print(lyrics4 + lyrics5)"
   ]
  },
  {
   "cell_type": "markdown",
   "metadata": {},
   "source": [
    "### 실행 결과\n",
    "Dance for me, Dance for me, Dance for me, Oh, Oh, Oh.   \n",
    "I've never seen anybody do the things you do before.   \n",
    "They say move for me, Move for me, Move for me, Ay, Ay, Ay.   \n",
    "And when you're done. I'll make you do it all again. "
   ]
  },
  {
   "cell_type": "markdown",
   "metadata": {},
   "source": [
    "# 문제 5번\n",
    "### 내용\n",
    "두 단어가 애너그램(anagram, 철자 순서를 바꾼 말)인지를 검사하는 함수를 작성하시오. 두 단어가 서로 동일한 문자를 포함하고 있다면 애너그램 관계에 있다. 예를 들어 silent와 listen은 애너그램 관계가 성립한다. 함수 헤더는 다음과 같다. s1과 s2가 애너그램이면 True를 반환, 그렇지 않으면 False를 반환한다.  \n",
    "  \n",
    "def isAnagram(s1, s2):  \n",
    "  \n",
    "사용자로부터 두 문자열을 입력받고, 이들이 애너그램이면 ‘애너그램입니다’를 출력하고, 그렇지 않으면 ‘애너그램이 아닙니다.’를 출력하는 테스트 프로그램을 작성하시오.  \n",
    "  \n",
    "(함수 내부에서 문자열에 대한 리스트를 생성하고 이를 사용하여 애너그램임을 판단할 것.)\n",
    "### 코드 설명\n",
    "다음의 과정을 따르는 isAnagram() 함수를 작성했다.  \n",
    "1. s1의 길이와 s2의 길이가 같지 않으면 False 반환\n",
    "2. s1과 s2를 각각 리스트로 변환\n",
    "3. for문을 통해 s1의 문자들을 차례대로 순회하면서, 해당 문자가 s2에 존재하는지 확인하기 위해 또하나의 for문을 통하여 s2를 차례대로 순회하며 같은 문자가 있으면 s2에서 해당 문자를 삭제하고 바깥 for문의 다음 단계로 넘어간다. 만약 같은 문자가 없었다면 False를 반환한다.\n",
    "4. 3번 과정에서 False가 반환되지 않고 완료되었다면 True를 반환"
   ]
  },
  {
   "cell_type": "code",
   "execution_count": null,
   "metadata": {},
   "outputs": [],
   "source": [
    "def isAnagram(s1, s2):\n",
    "    if len(s1) != len(s2):\n",
    "        return False\n",
    "    \n",
    "    l1 = list(s1)\n",
    "    l2 = list(s2)\n",
    "    for i in range(0, len(l1)):\n",
    "        ch = l1[i]\n",
    "        sameCharExist = False\n",
    "        for j in range(0, len(l2)):\n",
    "            if ch == l2[j]:\n",
    "                l2.remove(ch)\n",
    "                sameCharExist = True\n",
    "                break\n",
    "        if not sameCharExist:\n",
    "            return False\n",
    "    \n",
    "    return True\n",
    "\n",
    "s1 = input(\"1번째 문자열을 입력하시오: \")\n",
    "s2 = input(\"2번째 문자열을 입력하시오: \")\n",
    "\n",
    "if isAnagram(s1, s2):\n",
    "    print(\"애너그램입니다.\")\n",
    "else:\n",
    "    print(\"애너그램이 아닙니다.\")"
   ]
  },
  {
   "cell_type": "markdown",
   "metadata": {},
   "source": [
    "### 실행 결과\n",
    "1번째 문자열을 입력하시오: silent  \n",
    "\n",
    "2번째 문자열을 입력하시오: listen  \n",
    "애너그램입니다."
   ]
  }
 ],
 "metadata": {
  "kernelspec": {
   "display_name": "Python 3",
   "language": "python",
   "name": "python3"
  },
  "language_info": {
   "codemirror_mode": {
    "name": "ipython",
    "version": 3
   },
   "file_extension": ".py",
   "mimetype": "text/x-python",
   "name": "python",
   "nbconvert_exporter": "python",
   "pygments_lexer": "ipython3",
   "version": "3.8.3"
  }
 },
 "nbformat": 4,
 "nbformat_minor": 4
}
