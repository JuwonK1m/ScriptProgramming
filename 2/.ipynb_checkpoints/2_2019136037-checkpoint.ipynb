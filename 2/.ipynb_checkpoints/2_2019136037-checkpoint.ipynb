{
 "cells": [
  {
   "cell_type": "markdown",
   "metadata": {},
   "source": [
    "# 문제 1번\n",
    "### 내용\n",
    "깊이가 30미터인 우물이 있다. 이 우물에 사는 달팽이는 하루 종일 기어서 올라가면 7미터를 올라간다. 그러나 밤이 되면 쉬는 동안 5미터를 내려온다. 반복문을 이용하여 매일 저녁 달팽이의 위치를 표시하는 프로그램을 작성하시오. (단순히 하루에 2m를 등반한다고 계산을 하면 15일이지만 실제로는 13일이 걸린다.)  \n",
    "\n",
    "### 코드 설명\n",
    "첫날에 처음으로 올라갈때는 이전에 쉬는 밤이 없었으므로 7미터를 출력하고,  \n",
    "이후의 날들은 while 루프를 이용하여 등반한 전체 높이가 30미터 이상이 되기 전까지 5미터를 빼고 7미터를 더하는 과정을 반복하며 높이를 출력하였다."
   ]
  },
  {
   "cell_type": "code",
   "execution_count": 2,
   "metadata": {},
   "outputs": [
    {
     "name": "stdout",
     "output_type": "stream",
     "text": [
      "Day1 : 달팽이 위치 : 7m\n",
      "Day2 : 달팽이 위치 : 9m\n",
      "Day3 : 달팽이 위치 : 11m\n",
      "Day4 : 달팽이 위치 : 13m\n",
      "Day5 : 달팽이 위치 : 15m\n",
      "Day6 : 달팽이 위치 : 17m\n",
      "Day7 : 달팽이 위치 : 19m\n",
      "Day8 : 달팽이 위치 : 21m\n",
      "Day9 : 달팽이 위치 : 23m\n",
      "Day10 : 달팽이 위치 : 25m\n",
      "Day11 : 달팽이 위치 : 27m\n",
      "Day12 : 달팽이 위치 : 29m\n",
      "Day13 : 달팽이 위치 : 31m\n"
     ]
    }
   ],
   "source": [
    "height = 0\n",
    "day = 1\n",
    "\n",
    "height = height + 7\n",
    "print(\"Day{} : 달팽이 위치 : {}m\".format(day, height))\n",
    "day = day + 1\n",
    "\n",
    "while height < 30:\n",
    "    height = height - 5\n",
    "    height = height + 7\n",
    "    print(\"Day{} : 달팽이 위치 : {}m\".format(day, height))\n",
    "    day = day + 1"
   ]
  },
  {
   "cell_type": "markdown",
   "metadata": {},
   "source": [
    "### 실행 결과\n",
    "Day1 : 달팽이 위치 : 7m  \n",
    "Day2 : 달팽이 위치 : 9m  \n",
    "Day3 : 달팽이 위치 : 11m  \n",
    "Day4 : 달팽이 위치 : 13m  \n",
    "Day5 : 달팽이 위치 : 15m  \n",
    "Day6 : 달팽이 위치 : 17m  \n",
    "Day7 : 달팽이 위치 : 19m  \n",
    "Day8 : 달팽이 위치 : 21m  \n",
    "Day9 : 달팽이 위치 : 23m  \n",
    "Day10 : 달팽이 위치 : 25m  \n",
    "Day11 : 달팽이 위치 : 27m  \n",
    "Day12 : 달팽이 위치 : 29m  \n",
    "Day13 : 달팽이 위치 : 31m"
   ]
  },
  {
   "cell_type": "markdown",
   "metadata": {},
   "source": [
    "# 문제 2번\n",
    "### 내용\n",
    "두 정수 n1과 n2의 최대공약수를 찾는 또 다른 해결방법은 다음과 같다.  \n",
    "우선, n1과 n2중 작은 수를 d라고 한 후, d, d-1, d-2, ..., 2, 1 의 순서로 각각 d가 n1과 n2의 공약수인지 검사한다.  \n",
    "첫번째로 나타난 공약수가 두 수 n1과 n2의 최대공약수이다. 이 방법으로 최대공약수를 구하는 프로그램을 작성하시오.\n",
    "### 코드 설명\n",
    "두 정수를 입력받은 후, 삼항연산자를 통하여 두 수중 작은 수를 구한다.  \n",
    "그 다음에는 for 루프를 통해 해당 수부터 1까지 순회하면서, 두 정수가 해당 차례 수로 모두 나누어 떨어진다면 결과값 변수에 값을 넣고 break로 빠져나온다.  \n",
    "그 다음에는 결과값을 출력하였다."
   ]
  },
  {
   "cell_type": "code",
   "execution_count": 3,
   "metadata": {},
   "outputs": [
    {
     "name": "stdout",
     "output_type": "stream",
     "text": [
      "첫번째 정수를 입력하시오: 12\n",
      "두번째 정수를 입력하시오: 8\n",
      "최대공약수: 4\n"
     ]
    }
   ],
   "source": [
    "n1 = eval(input(\"첫번째 정수를 입력하시오: \"))\n",
    "n2 = eval(input(\"두번째 정수를 입력하시오: \"))\n",
    "\n",
    "min_num = n1 if n1 < n2 else n2\n",
    "\n",
    "for i in range(min_num, 0, -1):\n",
    "    if n1 % i == 0 and n2 % i == 0:\n",
    "        result = i\n",
    "        break\n",
    "        \n",
    "print(\"최대공약수:\", result)"
   ]
  },
  {
   "cell_type": "markdown",
   "metadata": {},
   "source": [
    "### 실행 결과\n",
    "첫번째 정수를 입력하시오: 12  \n",
    "두번째 정수를 입력하시오: 8  \n",
    "최대공약수: 4"
   ]
  },
  {
   "cell_type": "markdown",
   "metadata": {},
   "source": [
    "# 문제 3번\n",
    "### 내용\n",
    "업무 현장에서 여러분은 종종 데이터의 평균과 표준편차를 계산해야 할 경우가 있다. 평균이란 단순히 숫자들의 산술적인 평균을 의미한다. 표준 편차는 통계적으로 한 데이터 집합의 모든 데이터가 얼마만큼 평균에 가까이 모여 있는가를 나타낸다. 예를 들어, 한 반에 학생의 평균 나이는 얼마인가? 나이 차이가 얼마나 나는가? 만약 모든 학생의 나이가 동일하면, 편차는 0이다. 사용자로부터 10개의 숫자로 입력받고 이들 숫자의 평균과 표준편차를 출력하는 프로그램을 작성하시오. 단, 리스트를 사용하지 않는다.\n",
    "### 코드 설명\n",
    "리스트를 이용할 수 없으므로 각각의 변수를 만들어 입력한 수를 대입하였다.  \n",
    "그리고 각각의 변수 값들에대한 편차, 편차의 제곱, 분산, 표준편차를 공식에 따라 계산하여 평균과 표준편차를 출력하였다."
   ]
  },
  {
   "cell_type": "code",
   "execution_count": null,
   "metadata": {},
   "outputs": [],
   "source": [
    "from math import sqrt\n",
    "\n",
    "n1, n2, n3, n4, n5, n6, n7, n8, n9, n10 = eval(input(\"10개의 숫자를 입력하시오(,로 구분): \"))\n",
    "\n",
    "#평균\n",
    "average = (n1 + n2 + n3 + n4 + n5 + n6 + n7 + n8 + n9 + n10) / 10\n",
    "\n",
    "# 각각의 편차\n",
    "n1_deviation = n1 - average\n",
    "n2_deviation = n2 - average\n",
    "n3_deviation = n3 - average\n",
    "n4_deviation = n4 - average\n",
    "n5_deviation = n5 - average\n",
    "n6_deviation = n6 - average\n",
    "n7_deviation = n7 - average\n",
    "n8_deviation = n8 - average\n",
    "n9_deviation = n9 - average\n",
    "n10_deviation = n10 - average\n",
    "\n",
    "# 각각의 편차의 제곱\n",
    "n1_deviation_power2 = n1_deviation ** 2\n",
    "n2_deviation_power2 = n2_deviation ** 2\n",
    "n3_deviation_power2 = n3_deviation ** 2\n",
    "n4_deviation_power2 = n4_deviation ** 2\n",
    "n5_deviation_power2 = n5_deviation ** 2\n",
    "n6_deviation_power2 = n6_deviation ** 2\n",
    "n7_deviation_power2 = n7_deviation ** 2\n",
    "n8_deviation_power2 = n8_deviation ** 2\n",
    "n9_deviation_power2 = n9_deviation ** 2\n",
    "n10_deviation_power2 = n10_deviation ** 2\n",
    "\n",
    "# 분산\n",
    "variance = (n1_deviation_power2 + n2_deviation_power2 + n3_deviation_power2 + n4_deviation_power2 + n5_deviation_power2 + n6_deviation_power2 + n7_deviation_power2 + n8_deviation_power2 + n9_deviation_power2 + n10_deviation_power2) / 10\n",
    "# 표준편차\n",
    "result = sqrt(variance)\n",
    "\n",
    "print(\"평균은 {} 입니다.\".format(average))\n",
    "print(\"표준 편차는 {} 입니다.\".format(result))"
   ]
  },
  {
   "cell_type": "markdown",
   "metadata": {},
   "source": [
    "### 실행 결과\n",
    "10개의 숫자를 입력하시오(,로 구분): 1, 2, 3, 5.5, 5.6, 6, 7, 8, 9, 10  \n",
    "평균은 5.71 입니다.  \n",
    "표준 편차는 2.820797759499961 입니다."
   ]
  },
  {
   "cell_type": "markdown",
   "metadata": {},
   "source": [
    "# 문제 4번\n",
    "### 내용\n",
    "하나의 실수와 하나의 정수를 함수의 인자로 입력 받고, 입력 받은 실수를 정수만큼의 자릿수에서 반올림한 결과를 반환하는 my_round(fNum, iNum) 함수를 구현하시오. 만약 정수가 전달되지 않으면 기본적으로 실수를 소수점 둘째 자리에서 반올림하도록 한다. 사용자로부터 하나의 실수와 하나의 정수를 입력받고 이 함수를 입력하여 반올림한 결과를 구하여 출력하는 테스트 프로그램을 작성하시오.\n",
    "단, my_round() 함수 내에서 파이썬 내장함수 round()를 사용하지 않는다.\n",
    "### 코드 설명\n",
    "10에 iNum만큼 제곱한 값(10의 거듭제곱수)를 곱하게 되면, 해당 수의 일의자리 수는 반올림할때 버림해야하는지 올림해야하는지 판단하는 수가 되고 십의자리수는 조건 상황에 대해 변하지 않거나 변하게될 수가 된다.  \n",
    "따라서 10에 iNum만큼 제곱한 수를 정수로 변환하고 다음의 과정을 수행하였다.  \n",
    "- 일의자리수가 5 미만이면 버림이므로 일의자리수만 0으로 변경하고 다시 10에 iNum만큼 제곱한 수를 나누어 리턴\n",
    "- 일의자리수가 5 이상이면 올림이므로 일의자리수를 0으로 변경하고 10을 더한 다음 다시 10에 iNum만큼 제곱한 수를 나누어 리턴"
   ]
  },
  {
   "cell_type": "code",
   "execution_count": 6,
   "metadata": {},
   "outputs": [
    {
     "name": "stdout",
     "output_type": "stream",
     "text": [
      "실수 입력: 3.141592\n",
      "정수 입력: 5\n",
      "반올림한 값: 3.1416\n"
     ]
    }
   ],
   "source": [
    "def my_round(fNum, iNum = 2):\n",
    "    fNum = fNum * (10 ** iNum)\n",
    "    fNum = int(fNum)\n",
    "    \n",
    "    if fNum % 10 < 5:\n",
    "        return (fNum - fNum % 10) / (10 ** iNum)\n",
    "    else:\n",
    "        return (fNum - fNum % 10 + 10) / (10 ** iNum)\n",
    "    \n",
    "fNum = eval(input(\"실수 입력: \"))\n",
    "iNum = eval(input(\"정수 입력: \"))\n",
    "print(\"반올림한 값:\", my_round(fNum, iNum))"
   ]
  },
  {
   "cell_type": "markdown",
   "metadata": {},
   "source": [
    "### 실행 결과\n",
    "실수 입력: 3.141592  \n",
    "정수 입력: 5  \n",
    "반올림한 값: 3.1416"
   ]
  },
  {
   "cell_type": "markdown",
   "metadata": {},
   "source": [
    "# 문제 5번\n",
    "### 내용\n",
    "n1, n2 두 개의 정수를 인자로 받아서 n1부터 n2까지의 정수 합을 구하여 반환하는 함수 sum_range(n1, n2)를 구현하시오.  \n",
    "사용자로부터 두 개 정수를 입력받은 후 이 함수를 이용하여 합을 구하고 이를 출력하는 테스트 프로그램을 작성하시오.\n",
    "### 코드 설명\n",
    "for 루프를 통해 n1부터 n2까지 각각의 값들을 sum 변수에 누적하고, 마지막에 sum을 반환하는 함수를 작성하였다."
   ]
  },
  {
   "cell_type": "code",
   "execution_count": 4,
   "metadata": {},
   "outputs": [
    {
     "name": "stdout",
     "output_type": "stream",
     "text": [
      "숫자를 입력하세요. n1 : 1\n",
      "숫자를 입력하세요. n2 : 10\n",
      "n1 ~ n2의 합은 : 55\n"
     ]
    }
   ],
   "source": [
    "def sum_range(n1, n2):\n",
    "    sum = 0\n",
    "    for i in range(n1, n2 + 1):\n",
    "        sum = sum + i\n",
    "    return sum\n",
    "\n",
    "n1 = eval(input(\"숫자를 입력하세요. n1 : \"))\n",
    "n2 = eval(input(\"숫자를 입력하세요. n2 : \"))\n",
    "\n",
    "result = sum_range(n1, n2)\n",
    "\n",
    "print(\"n1 ~ n2의 합은 :\", result)"
   ]
  },
  {
   "cell_type": "markdown",
   "metadata": {},
   "source": [
    "### 실행 결과\n",
    "숫자를 입력하세요. n1 : 1  \n",
    "숫자를 입력하세요. n2 : 10  \n",
    "n1 ~ n2의 합은 : 55"
   ]
  },
  {
   "cell_type": "markdown",
   "metadata": {},
   "source": [
    "# 문제 6번\n",
    "### 내용\n",
    "하나의 정수 n을 인자로 받아서 n x n 행렬을 출력하는 함수 printMatrix(n)를 구현하시오.  \n",
    "행렬의 각 원소는 0이나 1의 값을 가지며 랜덤하게 생성된다.  \n",
    "사용자로부터 n을 입력받고 이 함수를 이용하여 n x n 행렬을 출력하는 테스트 프로그램을 작성하시오.  \n",
    "### 코드 설명  \n",
    "이중 for 루프를 사용하여 행렬을 출력하였으며, 랜덤하게 0이나 1을 생성하기 위해 random 모듈의 randint() 함수를 사용하였다."
   ]
  },
  {
   "cell_type": "code",
   "execution_count": 1,
   "metadata": {},
   "outputs": [
    {
     "name": "stdout",
     "output_type": "stream",
     "text": [
      "n을 입력하세요: 3\n",
      "0 0 0 \n",
      "0 1 1 \n",
      "0 0 1 \n"
     ]
    }
   ],
   "source": [
    "from random import randint\n",
    "\n",
    "def printMatrix(n):\n",
    "    for i in range(0, n):\n",
    "        for j in range(0, n):\n",
    "            print(randint(0, 1), end = \" \")\n",
    "        print()\n",
    "        \n",
    "n = eval(input(\"n을 입력하세요: \"))\n",
    "printMatrix(n)"
   ]
  },
  {
   "cell_type": "markdown",
   "metadata": {},
   "source": [
    "### 실행 결과\n",
    "n을 입력하세요: 3  \n",
    "0 0 0   \n",
    "1 1 1   \n",
    "0 1 0 "
   ]
  }
 ],
 "metadata": {
  "kernelspec": {
   "display_name": "Python 3",
   "language": "python",
   "name": "python3"
  },
  "language_info": {
   "codemirror_mode": {
    "name": "ipython",
    "version": 3
   },
   "file_extension": ".py",
   "mimetype": "text/x-python",
   "name": "python",
   "nbconvert_exporter": "python",
   "pygments_lexer": "ipython3",
   "version": "3.8.3"
  }
 },
 "nbformat": 4,
 "nbformat_minor": 4
}
