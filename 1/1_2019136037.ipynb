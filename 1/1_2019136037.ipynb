{
 "cells": [
  {
   "cell_type": "markdown",
   "metadata": {},
   "source": [
    "# 문제 1번\n",
    "### 내용\n",
    "(단위 환산) 1평은 약 3.3m2 이다. 연산자를 이용하여 (X)m2의 넓이가 있을 경우 평의 단위로 환산하여 나타내시오. 예를 들어 64m2의 경우 19평이 된다. (print 함수의 문자열 연결을 사용하여 구현하시오.)\n",
    "\n",
    "### 코드 설명\n",
    "평은 넓이에서 3.3로 나눈 값이 되므로, 평을 입력받아 3.3을 나눈 값을 출력하였다.  \n",
    "또한 평은 정수이므로 해당 값을 int형으로 변환하였다.  \n",
    "문자열 연결 사용하여 출력해야 하므로 str() 함수로 값을 문자열로 변환해 '+' 을 사용하여 출력하였다."
   ]
  },
  {
   "cell_type": "code",
   "execution_count": 4,
   "metadata": {},
   "outputs": [
    {
     "name": "stdout",
     "output_type": "stream",
     "text": [
      "넓이 Xm2를 입력하시오: 64\n",
      "64 제곱미터는 19 평과 같습니다.\n"
     ]
    }
   ],
   "source": [
    "area = eval(input(\"넓이 Xm2를 입력하시오: \"))\n",
    "\n",
    "# 평(넓이에서 3.3으로 나눈 값)을 출력한다.\n",
    "print(str(area) + \" 제곱미터는 \" + str(int(area / 3.3)) + \" 평과 같습니다.\")"
   ]
  },
  {
   "cell_type": "markdown",
   "metadata": {},
   "source": [
    "### 실행 결과\n",
    "넓이 Xm2를 입력하시오: 64  \n",
    "64 제곱미터는 19 평과 같습니다."
   ]
  },
  {
   "cell_type": "markdown",
   "metadata": {},
   "source": [
    "# 문제 2번\n",
    "### 내용\n",
    "(회전 변환) 파이썬 내장 라이브러리 math를 이용하여 어떠한 점 x1, y1을 입력 받고 각도 a도만큼 회전 변환한 점을 x2, y2라고 할 경우 x2, y2의 좌표를 구하시오. (소수점 2자리까지 표시하시오.)\n",
    "### 코드 설명\n",
    "특정 각도로 회전시키는 공식을 이용하여 코드를 작성하였다.\n",
    "공식은 다음과 같다.\n",
    "(x1, y1)에서 (x2, y2)로 m(라디안)만큼 회전한다고 할 경우,  \n",
    "**x2 = cosm * x1 - sinm * y1**  \n",
    "**y2 = sinm * x1 + cosm * y1**  \n",
    "이다.\n",
    "\n",
    "입력은 각도로 주어지므로, 각도를 라디안으로 변환한 후에 공식에 맞추어 계산하고 각각을 포맷에 맞추어 출력하였다."
   ]
  },
  {
   "cell_type": "code",
   "execution_count": 13,
   "metadata": {},
   "outputs": [
    {
     "name": "stdout",
     "output_type": "stream",
     "text": [
      "x1, y1 좌표를 입력하시오:3,4\n",
      "회전할 각도 A를 입력하시오: 60\n",
      "회전 좌표는 -1.96, 4.60입니다.\n"
     ]
    }
   ],
   "source": [
    "import math\n",
    "\n",
    "x1, y1 = eval(input(\"x1, y1 좌표를 입력하시오:\"))\n",
    "arc_degree = eval(input(\"회전할 각도 A를 입력하시오: \")) \n",
    "\n",
    "radian = arc_degree * (math.pi / 180)\n",
    "x2 = math.cos(radian) * x1 - math.sin(radian) * y1\n",
    "y2 = math.sin(radian) * x1 + math.cos(radian) * y1\n",
    "\n",
    "print(\"회전 좌표는 {:.2f}, {:.2f}입니다.\".format(x2, y2))"
   ]
  },
  {
   "cell_type": "markdown",
   "metadata": {},
   "source": [
    "### 실행 결과\n",
    "x1, y1 좌표를 입력하시오:3,4  \n",
    "회전할 각도 A를 입력하시오: 60  \n",
    "회전 좌표는 -1.96, 4.60입니다."
   ]
  },
  {
   "cell_type": "markdown",
   "metadata": {},
   "source": [
    "# 문제 3번\n",
    "### 내용\n",
    "중점이 (0,0)이고 반지름이 r인 원이 있다고 할 경우, 입력받은 x1, y1이 원 방정식의 어디에 위치하는지 나타내시오. 예를 들어 반지름이 1인 원인 경우 (1, 0)은 원 위에 있고, (0.5, 0.5)는 원 안에, (2,1)은 원 밖에 존재한다.\n",
    "### 코드 설명\n",
    "x1, y1를 입력받고 두 점 사이의 거리 공식을 사용하여 거리를 계산하였다.  \n",
    "제곱근 계산을 위해 math.sqrt() 함수를 사용하였다.  \n",
    "if-else문을 이용하여,  \n",
    "- 계산된 거리가 반지름 r보다 크면 원 밖\n",
    "- 계산된 거리가 반지름 r보다 같으면 원 위\n",
    "- 계산된 거리가 반지름 r보다 작으면 원 안  \n",
    "\n",
    "각각의 조건에 맞게 결과를 출력하였다."
   ]
  },
  {
   "cell_type": "code",
   "execution_count": null,
   "metadata": {},
   "outputs": [],
   "source": [
    "import math\n",
    "\n",
    "r = eval(input(\"반지름 r을 입력하시오: \"))\n",
    "x1, y1 = eval(input(\"x1, y1을 입력하시오: \"))\n",
    "\n",
    "distance = math.sqrt(x1 ** 2 + y1 ** 2)\n",
    "\n",
    "if distance > r:\n",
    "    print(\"{}, {}은 원 밖에 존재합니다.\".format(x1, y1))\n",
    "elif distance == r:\n",
    "    print(\"{}, {}은 원 위에 존재합니다.\".format(x1, y1))\n",
    "else:\n",
    "    print(\"{}, {}은 원 안에 존재합니다.\".format(x1, y1))"
   ]
  },
  {
   "cell_type": "markdown",
   "metadata": {},
   "source": [
    "### 실행 결과\n",
    "반지름 r을 입력하시오: 1  \n",
    "x1, y1을 입력하시오: 2,3  \n",
    "2, 3은 원 밖에 존재합니다."
   ]
  },
  {
   "cell_type": "markdown",
   "metadata": {},
   "source": [
    "# 문제 4번\n",
    "### 내용\n",
    "(과락 계산) xx자격증 시험은 총 4과목으로 구성되어 잇다. 각 과목당 100점이고, 과목의 총 합이 240점 이상이면 합격이다. 단, 한과목이라도 40점 이하의 점수를 얻은 경우 탈락으로 처리된다. 4과목의 점수를 입력받았을때, 합격인지 탈락인지 결과를 출력하라.\n",
    "### 코드 설명\n",
    "if-else문을 이용하여 코드를 작성하였다.\n",
    "- 한 과목이라도 40 이하라면(if) 탈락\n",
    "- 아니라면(else)\n",
    "    - 모든 과목의 합이 240 이상이라면(if) 합격\n",
    "    - 아니라면(else) 탈락"
   ]
  },
  {
   "cell_type": "code",
   "execution_count": null,
   "metadata": {},
   "outputs": [],
   "source": [
    "A_score = eval(input(\"A 시험 점수: \"))\n",
    "B_score = eval(input(\"B 시험 점수: \"))\n",
    "C_score = eval(input(\"C 시험 점수: \"))\n",
    "D_score = eval(input(\"D 시험 점수: \"))\n",
    "\n",
    "if A_score <= 40 or B_score <= 40 or C_score <= 40 or D_score <= 40:\n",
    "    print(\"결과: 탈락\")\n",
    "else:\n",
    "    if (A_score + B_score + C_score + D_score) >= 240:\n",
    "        print(\"결과: 합격\")\n",
    "    else:\n",
    "        print(\"결과: 탈락\")"
   ]
  },
  {
   "cell_type": "markdown",
   "metadata": {},
   "source": [
    "### 실행 결과\n",
    "A 시험 점수: 70  \n",
    "B 시험 점수: 40  \n",
    "C 시험 점수: 80  \n",
    "D 시험 점수: 80  \n",
    "결과: 탈락"
   ]
  },
  {
   "cell_type": "markdown",
   "metadata": {},
   "source": [
    "# 문제 5번\n",
    "### 내용\n",
    "연 원 일을 입력하여 무슨 요일인지 구하시오. (챌러의 공식 이용)\n",
    "### 코드 설명\n",
    "챌러의 공식에 맞게 값을 대입하여 계산하였다.  \n",
    "중괄호로 둘러싸인 수는 그 수를 넘지않는 최대의 정수를 의미하므로 int형으로 형변환하였고,  \n",
    "(세기 - 1) 값은 해당 연도에서 뒷 2자리 값을 빼는 방식으로 해결하였다."
   ]
  },
  {
   "cell_type": "code",
   "execution_count": 23,
   "metadata": {},
   "outputs": [
    {
     "name": "stdout",
     "output_type": "stream",
     "text": [
      "연, 월, 일을 입력하시오. 2020,9,14\n",
      "월요일 입니다.\n"
     ]
    }
   ],
   "source": [
    "year, month, day = eval(input(\"연, 월, 일을 입력하시오. \"))\n",
    "\n",
    "h = (day + int(13 * (month + 1) / 5) + (year % 100) + int(year % 100 / 4) + int((year - year % 100) / 4) - (2 * (year - year % 100))) % 7\n",
    "\n",
    "if h == 0:\n",
    "    print(\"토요일 입니다.\")\n",
    "elif h == 1:\n",
    "    print(\"일요일 입니다.\")\n",
    "elif h == 2:\n",
    "    print(\"월요일 입니다.\")\n",
    "elif h == 3:\n",
    "    print(\"화요일 입니다.\")\n",
    "elif h == 4:\n",
    "    print(\"수요일 입니다.\")\n",
    "elif h == 5:\n",
    "    print(\"목요일 입니다.\")\n",
    "else:\n",
    "    print(\"금요일 입니다.\")"
   ]
  },
  {
   "cell_type": "markdown",
   "metadata": {},
   "source": [
    "### 실행 결과\n",
    "연, 월, 일을 입력하시오. 2020,9,14\n",
    "월요일 입니다."
   ]
  },
  {
   "cell_type": "markdown",
   "metadata": {},
   "source": [
    "# 문제 6번\n",
    "### 내용\n",
    "(업 다운 게임) 0~100사이의 랜덤 숫자를 지정하고 사용자는 5번의 기회 동안 숫자를 입력한다. 매번 기회 마다 사용자의 숫자가 랜덤한 숫자보다 큰지 작은지 업, 다운으로 알려준다.  \n",
    "예를 들어 랜덤한 숫자가 15일 때  \n",
    "사용자가 50을 입력하면 “다운”을 출력하고  \n",
    "13이라고 하면 “업”을 출력한다.  \n",
    "사용자가 정답을 맞출 경우 즉시 “정답”을 출력한다.  \n",
    "5번의 기회 동안 사용자가 맞추지 못하면 정답 숫자를 출력한다.  \n",
    "### 코드 설명\n",
    "for 루프를 이용하여 최대 5번 기회를 부여하는 코드 (i의 범위가 1 ~ 5)를 작성하였다.  \n",
    "입력한 숫자가 랜덤 숫자와 같지 않으면, 단순히 \"다운\" 또는 \"업\"을 출력하고 루프의 다음 단계로 넘어갈 수 있게 하였지만,  \n",
    "입력한 숫자가 랜덤 숫자가 같으면, False가 저장되어있는 bool형의 변수 correct에 True을 저장하고 break를 통해 루프를 빠져나오게 하였다.  \n",
    "그리고 마지막에는 correct가 True이면 \"정답\"을 출력,  \n",
    "correct가 False이면 \"정답은 ?입니다.\"로 출력하였다.\n"
   ]
  },
  {
   "cell_type": "code",
   "execution_count": null,
   "metadata": {},
   "outputs": [],
   "source": [
    "import random\n",
    "\n",
    "num = random.randint(0, 100)\n",
    "correct = False\n",
    "\n",
    "for i in range(1, 6):\n",
    "    answer = eval(input(\"{}번째 기회 숫자를 입력하세요: \".format(i)))\n",
    "    if answer > num:\n",
    "        print(\"다운\")\n",
    "    elif answer < num:\n",
    "        print(\"업\")\n",
    "    else:\n",
    "        correct = True\n",
    "        break\n",
    "        \n",
    "if correct:\n",
    "    print(\"정답\")\n",
    "else:\n",
    "    print(\"정답은 {}입니다.\".format(num))"
   ]
  },
  {
   "cell_type": "markdown",
   "metadata": {},
   "source": [
    "### 실행 결과\n",
    "#### 랜덤 숫자가 25일때\n",
    "1번째 기회 숫자를 입력하세요: 50  \n",
    "다운  \n",
    "2번째 기회 숫자를 입력하세요: 25  \n",
    "정답  \n",
    "#### 랜덤 숫자가 27일때\n",
    "1번째 기회 숫자를 입력하세요: 50  \n",
    "다운  \n",
    "2번째 기회 숫자를 입력하세요: 25  \n",
    "업  \n",
    "3번째 기회 숫자를 입력하세요: 40  \n",
    "다운  \n",
    "4번째 기회 숫자를 입력하세요: 30  \n",
    "다운  \n",
    "5번째 기회 숫자를 입력하세요: 28  \n",
    "정답은 27입니다."
   ]
  }
 ],
 "metadata": {
  "kernelspec": {
   "display_name": "Python 3",
   "language": "python",
   "name": "python3"
  },
  "language_info": {
   "codemirror_mode": {
    "name": "ipython",
    "version": 3
   },
   "file_extension": ".py",
   "mimetype": "text/x-python",
   "name": "python",
   "nbconvert_exporter": "python",
   "pygments_lexer": "ipython3",
   "version": "3.8.3"
  }
 },
 "nbformat": 4,
 "nbformat_minor": 4
}
